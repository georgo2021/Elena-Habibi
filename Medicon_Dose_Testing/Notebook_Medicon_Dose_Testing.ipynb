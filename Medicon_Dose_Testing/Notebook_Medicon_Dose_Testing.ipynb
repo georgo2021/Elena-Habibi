{
  "cells": [
    {
      "cell_type": "markdown",
      "metadata": {
        "id": "7uTqu6UnZIuP"
      },
      "source": [
        "# **Context**\n",
        "\n",
        "Medicon, a pharmaceutical company, has manufactured the sixth batch (40,000 units) of COVID-19 vaccine doses. **This vaccine was clinically tested last quarter and around 200,000 doses have already been given to people in five batches.**\n",
        "\n",
        "Now, the sixth batch of doses needs to be tested for their **time of effect** (measured as the **time taken for the dose to be absorbed in the body for its COVID-19 preventative effects**, such as antibody creation, to manifest), as well as for **quality assurance** (which tells you whether the dose will be able to do a satisfactory job or not).\n",
        "\n",
        "You are working with the quality assurance team of Medicon and want to understand the quality of the sixth batch so that the company can plan for the next batch of doses.\n",
        "\n",
        "**Note:** Please note that this is not a clinical trial, the vaccine has already cleared clinical trials. This test is to ensure the quality and effectiveness of the sixth batch."
      ]
    },
    {
      "cell_type": "markdown",
      "metadata": {
        "id": "n5dtiaJdi1Y_"
      },
      "source": [
        "## **Problem Statement**\n",
        "\n",
        "The previous analysis found that a dose is ten times more likely to produce a satisfactory result than not.\n",
        "\n",
        "<br>\n",
        "\n",
        "**Note:** Here, a satisfactory job for the vaccine means that the dose **has successfully prevented COVID-19** - which is assumed to have taken place if the person does not show any symptoms or side effects after 14 days have passed since the vaccine dose was administered.\n",
        "\n",
        "\n",
        "<br>\n",
        "\n",
        "Q1. The quality assurance team has collected 100 volunteers who were ready for the trial of this new batch, and they have given one dose to each volunteer. Help the team answer the following questions:\n",
        "\n",
        "\n",
        "a) **Plot the probability distribution** for the number of unsatisfactory doses.\n",
        "\n",
        "b) What is the probability that **exactly 3 doses will not be able to do a satisfactory job**?\n",
        "\n",
        "c) What is the probability that **at most 3 doses will not do a satisfactory job** out of 100 selected?\n",
        "\n",
        "\n",
        "<br>\n",
        "\n",
        "Q2. The New York city administration wants to buy 200 doses for Health care workers who were COVID-Positive. They have contacted the company and requested 200 doses. What is the probability that **at least 30 doses will not do a satisfactory job** out of 200 doses?\n",
        "\n",
        "<br>\n",
        "\n",
        "Q3. The quality assurance team wants to analyze the **time of effect for doses**. So, they collected the 50 volunteers with the help of the city administration and gave one dose to each volunteer. Data for these 50 doses are in the 'doses.csv' file. Based on this sample, answer the following questions:\n",
        "\n",
        "a) What is the probability that the time of effect is **less than 11.5 hours**?\n",
        "\n",
        "b) What is the **90th percentile of time of effect for the doses**?\n",
        "\n",
        "c) For the effectiveness test of the vaccine, estimate the range in which **the population mean (time of effect) will lie with a 95% confidence level**.\n",
        "\n"
      ]
    },
    {
      "cell_type": "markdown",
      "metadata": {
        "id": "8FbHCKa_NBGQ"
      },
      "source": [
        "## **Import the Libraries**"
      ]
    },
    {
      "cell_type": "code",
      "execution_count": null,
      "metadata": {
        "id": "cNXGq81liYXe"
      },
      "outputs": [],
      "source": [
        "# import the important libraries\n",
        "import pandas as pd  # library used for data manipulation and analysis\n",
        "import numpy as np  # library used for working with arrays\n",
        "import matplotlib.pyplot as plt  # library for visualization\n",
        "import seaborn as sns  # library for visualization\n",
        "# %matplotlib inline\n",
        "import scipy.stats as stats  # this library contains a large number of probability distributions as well as a growing library of statistical functions"
      ]
    },
    {
      "cell_type": "markdown",
      "metadata": {
        "id": "lduM89uhi1Lv"
      },
      "source": [
        "## **Question 1 Solution**"
      ]
    },
    {
      "cell_type": "markdown",
      "metadata": {
        "id": "Hrjb75zpALlN"
      },
      "source": [
        "**Q1. The quality assurance team has collected the 100 volunteers who were ready for the trial of this new batch and given one dose to each volunteer. What is the probability that k doses will do a satisfactory job out of 100 doses given to the volunteers?**\n",
        "\n",
        "The above situation follows the Binomial distribution because we are taking a random sample of 100 doses and each dose either does a satisfactory job or doesn't.\n",
        "\n",
        "\n",
        "Let's check first whether the assumptions of the binomial distribution are satisfied or not.\n",
        "\n",
        "*  There are only two possible outcomes (success or failure) for each trial – A dose will do a satisfactory job or not (yes or no).\n",
        "\n",
        "* The number of trials (n) is fixed - A  sample of size 100 is taken. Each dose in the sample represents a trial.\n",
        "\n",
        "* Each trial is independent of the other trials - It is reasonable to assume that giving a dose to each person is independent.\n",
        "\n",
        "* The probability of success (p) is the same for each trial - The probability of success for each trial (a dose will not do a satisfactory job) is not known.\n",
        "\n",
        "Let's find the probability of success of each trial i.e. a dose will not do a satisfactory job.\n",
        "\n",
        "Let $p$ be the probability that a dose will not do a satisfactory job.\n",
        "\n",
        "As we already know, the quality assurance team checked on five batches of doses and found that - it is 10 times more likely that a dose will be able to produce a satisfactory result than not. So, the probability that a dose will do a satisfactory job is $10p$.\n",
        "\n",
        "According to the rules of probability,\n",
        "\n",
        "$p + 10p = 1$\n",
        "\n",
        "$=> 11p = 1$\n",
        "\n",
        "$=> p = 1/11$\n",
        "\n",
        "$=> p = 0.09$\n",
        "\n",
        "Hence, the probability of success for each trial (a dose will not do a satisfactory job) is **0.09**.\n",
        "\n",
        "$P(success) + P(failure) = 1$\n",
        "\n",
        "$P(not satisfactory) + P(satisfactory)=1$\n",
        "\n",
        "$p + 10p = 1$\n",
        "\n"
      ]
    },
    {
      "cell_type": "markdown",
      "metadata": {
        "id": "sposkI4aH8_L"
      },
      "source": [
        "## **Let's estimate the probability distribution of doses**"
      ]
    },
    {
      "cell_type": "code",
      "execution_count": null,
      "metadata": {
        "id": "sGLoIPMP_-Sf"
      },
      "outputs": [],
      "source": [
        "# declare the sample size in variable n that represents the number of doses given to the volunteers\n",
        "n=100"
      ]
    },
    {
      "cell_type": "code",
      "execution_count": null,
      "metadata": {
        "id": "ZgnoUEpHISKO"
      },
      "outputs": [],
      "source": [
        "# declare p that represents the probability of success i.e. the probability that a dose will not do a satisfactory job\n",
        "p=0.09"
      ]
    },
    {
      "cell_type": "code",
      "execution_count": null,
      "metadata": {
        "colab": {
          "base_uri": "https://localhost:8080/"
        },
        "id": "C-tnZuKyIZY-",
        "outputId": "028ac166-e8c6-44bd-b552-85ecf9b1dd77"
      },
      "outputs": [
        {
          "output_type": "execute_result",
          "data": {
            "text/plain": [
              "array([  0,   1,   2,   3,   4,   5,   6,   7,   8,   9,  10,  11,  12,\n",
              "        13,  14,  15,  16,  17,  18,  19,  20,  21,  22,  23,  24,  25,\n",
              "        26,  27,  28,  29,  30,  31,  32,  33,  34,  35,  36,  37,  38,\n",
              "        39,  40,  41,  42,  43,  44,  45,  46,  47,  48,  49,  50,  51,\n",
              "        52,  53,  54,  55,  56,  57,  58,  59,  60,  61,  62,  63,  64,\n",
              "        65,  66,  67,  68,  69,  70,  71,  72,  73,  74,  75,  76,  77,\n",
              "        78,  79,  80,  81,  82,  83,  84,  85,  86,  87,  88,  89,  90,\n",
              "        91,  92,  93,  94,  95,  96,  97,  98,  99, 100])"
            ]
          },
          "metadata": {},
          "execution_count": 4
        }
      ],
      "source": [
        "# declare the different number of doses selected in a Numpy array\n",
        "k=np.arange(0,101)\n",
        "k"
      ]
    },
    {
      "cell_type": "code",
      "execution_count": null,
      "metadata": {
        "id": "zOMdaSVSIhUd"
      },
      "outputs": [],
      "source": [
        "# import the binomial function from the scipy library\n",
        "from scipy.stats import binom\n",
        "\n",
        "# use the binom.pmf() function to generate the probability distribution\n",
        "binomial = binom.pmf(k = k,n = n, p = p)"
      ]
    },
    {
      "cell_type": "code",
      "source": [
        "binomial[3]"
      ],
      "metadata": {
        "colab": {
          "base_uri": "https://localhost:8080/"
        },
        "id": "oYatKOTSbdyx",
        "outputId": "020d06ad-813a-4b66-da9d-028240c04640"
      },
      "execution_count": null,
      "outputs": [
        {
          "output_type": "execute_result",
          "data": {
            "text/plain": [
              "array([6.43099933e-009, 1.27206580e-007, 1.25179662e-006, 8.17106805e-006,\n",
              "       3.98002848e-005, 1.54302643e-004, 4.95972779e-004, 1.35944815e-003,\n",
              "       3.24362835e-003, 6.84369938e-003, 1.29278233e-002, 2.20844934e-002,\n",
              "       3.44008455e-002, 4.92022237e-002, 6.49979140e-002, 7.97117275e-002,\n",
              "       9.11538642e-002, 9.75764700e-002, 9.81126045e-002, 9.29487832e-002,\n",
              "       8.31942680e-002, 7.05257531e-002, 5.67517424e-002, 4.34382663e-002,\n",
              "       3.16836805e-002, 2.20601977e-002, 1.46850429e-002, 9.35969766e-003,\n",
              "       5.71940709e-003, 3.35492314e-003, 1.89129184e-003, 1.02576268e-003,\n",
              "       5.35777827e-004, 2.69762262e-004, 1.31044822e-004, 6.14696906e-005,\n",
              "       2.78640081e-005, 1.22148132e-005, 5.18193491e-006, 2.12884224e-006,\n",
              "       8.47442968e-007, 3.27075281e-007, 1.22460682e-007, 4.45027064e-008,\n",
              "       1.57048761e-008, 5.38452896e-009, 1.79441422e-009, 5.81495932e-010,\n",
              "       1.83314995e-010, 5.62401690e-011, 1.67978878e-011, 4.88626343e-012,\n",
              "       1.38471666e-012, 3.82426414e-013, 1.02960958e-013, 2.70311086e-014,\n",
              "       6.92221285e-015, 1.72955232e-015, 4.21738126e-016, 1.00387656e-016,\n",
              "       2.33318563e-017, 5.29600774e-018, 1.17428318e-018, 2.54397297e-019,\n",
              "       5.38584937e-020, 1.11450205e-020, 2.25461204e-021, 4.45967217e-022,\n",
              "       8.62674142e-023, 1.63219761e-023, 3.02097486e-024, 5.47057821e-025,\n",
              "       9.69374436e-026, 1.68104674e-026, 2.85333594e-027, 4.74092742e-028,\n",
              "       7.71189032e-029, 1.22826739e-029, 1.91559876e-030, 2.92575802e-031,\n",
              "       4.37658033e-032, 6.41257191e-033, 9.20378520e-034, 1.29411093e-034,\n",
              "       1.78270384e-035, 2.40613162e-036, 3.18214442e-037, 4.12388553e-038,\n",
              "       5.23725223e-039, 6.51827417e-040, 7.95086190e-041, 9.50531733e-042,\n",
              "       1.11379793e-042, 1.27922910e-043, 1.44014219e-044, 1.58923730e-045,\n",
              "       1.71912689e-046, 1.82293278e-047, 1.89488528e-048, 1.93085213e-049,\n",
              "       1.92873032e-050, 1.88864899e-051, 1.81295653e-052, 1.70599344e-053,\n",
              "       1.57368161e-054, 1.42298369e-055, 1.26130111e-056, 1.09588245e-057,\n",
              "       9.33306481e-059, 7.79088382e-060, 6.37435949e-061, 5.11160399e-062,\n",
              "       4.01726334e-063, 3.09410927e-064, 2.33534563e-065, 1.72724082e-066,\n",
              "       1.25174235e-067, 8.88811138e-069, 6.18310598e-070, 4.21380757e-071,\n",
              "       2.81306384e-072, 1.83943871e-073, 1.17802281e-074, 7.38829638e-076,\n",
              "       4.53747730e-077, 2.72846987e-078, 1.60624207e-079, 9.25635737e-081,\n",
              "       5.22100514e-082, 2.88202686e-083, 1.55673302e-084, 8.22700951e-086,\n",
              "       4.25322420e-087, 2.15068430e-088, 1.06352520e-089, 5.14231966e-091,\n",
              "       2.43071833e-092, 1.12303983e-093, 5.07058118e-095, 2.23684425e-096,\n",
              "       9.63914832e-098, 4.05669090e-099, 1.66700423e-100, 6.68697616e-102,\n",
              "       2.61784094e-103, 9.99918026e-105, 3.72542092e-106, 1.35348327e-107,\n",
              "       4.79367032e-109, 1.65457461e-110, 5.56373439e-112, 1.82205114e-113,\n",
              "       5.80917115e-115, 1.80245776e-116, 5.44055681e-118, 1.59687382e-119,\n",
              "       4.55574737e-121, 1.26273952e-122, 3.39880509e-124, 8.87931664e-126,\n",
              "       2.25032132e-127, 5.52942239e-129, 1.31652914e-130, 3.03548147e-132,\n",
              "       6.77308583e-134, 1.46152501e-135, 3.04766569e-137, 6.13664342e-139,\n",
              "       1.19216581e-140, 2.23254929e-142, 4.02638171e-144, 6.98620308e-146,\n",
              "       1.16496231e-147, 1.86476848e-149, 2.86180839e-151, 4.20510620e-153,\n",
              "       5.90752308e-155, 7.92217660e-157, 1.01240311e-158, 1.23062076e-160,\n",
              "       1.41994703e-162, 1.55176046e-164, 1.60216785e-166, 1.55858519e-168,\n",
              "       1.42417304e-170, 1.21818187e-172, 9.71609076e-175, 7.19414372e-177,\n",
              "       4.92000710e-179, 3.08948641e-181, 1.76899453e-183, 9.15997398e-186,\n",
              "       4.24655387e-188, 1.74088640e-190, 6.21252086e-193, 1.89053889e-195,\n",
              "       4.76980546e-198, 9.57845688e-201, 1.43533320e-203, 1.42669378e-206,\n",
              "       7.05507911e-210])"
            ]
          },
          "metadata": {},
          "execution_count": 20
        }
      ]
    },
    {
      "cell_type": "markdown",
      "metadata": {
        "id": "LEtZ2aqQI6dZ"
      },
      "source": [
        "As you can see **binomial** variable is the array of probabilities for the different number of doses that will not do a satisfactory job. Let us visualize the same in the following plot."
      ]
    },
    {
      "cell_type": "markdown",
      "metadata": {
        "id": "tRX9gs2fPrut"
      },
      "source": [
        "**a) Plot the  Probability Distribution**"
      ]
    },
    {
      "cell_type": "code",
      "execution_count": null,
      "metadata": {
        "colab": {
          "base_uri": "https://localhost:8080/",
          "height": 474
        },
        "id": "AsMrxVECI2zT",
        "outputId": "e14772d7-a30a-4bb5-c3ea-8928751cc7f8"
      },
      "outputs": [
        {
          "output_type": "display_data",
          "data": {
            "text/plain": [
              "<Figure size 640x480 with 1 Axes>"
            ],
            "image/png": "[encoded data removed]"
          },
          "metadata": {}
        }
      ],
      "source": [
        "# plot the distribution\n",
        "plt.bar(k,binomial)\n",
        "plt.xlim(0,100)\n",
        "plt.ylim(0,0.0000000150)\n",
        "plt.title('Binomial: n=%i , p=%.2f' % (n,p), fontsize=15)\n",
        "plt.xlabel('Number of Doses')\n",
        "plt.ylabel('Probability that doses will not do a satisfactory job')\n",
        "plt.show()"
      ]
    },
    {
      "cell_type": "markdown",
      "metadata": {
        "id": "jFFr2sXaK-IQ"
      },
      "source": [
        "**b) What is the probability that exactly 3 doses will not be able to do a satisfactory job?**"
      ]
    },
    {
      "cell_type": "code",
      "execution_count": null,
      "metadata": {
        "colab": {
          "base_uri": "https://localhost:8080/"
        },
        "id": "-azdDTV4JCgy",
        "outputId": "19347544-a12f-40d1-801b-4e71850b6c22"
      },
      "outputs": [
        {
          "output_type": "execute_result",
          "data": {
            "text/plain": [
              "np.float64(0.012544478265088926)"
            ]
          },
          "metadata": {},
          "execution_count": 8
        }
      ],
      "source": [
        "binomial[3] #1.25444783e-002."
      ]
    },
    {
      "cell_type": "markdown",
      "metadata": {
        "id": "crI831a9Jmcn"
      },
      "source": [
        "* The probability of exactly 3 doses will not do a satisfactory job is **0.0125** i.e. 1.25%."
      ]
    },
    {
      "cell_type": "markdown",
      "metadata": {
        "id": "KvTxEpGZKN6c"
      },
      "source": [
        "**c) What is the probability that at most 3 doses will not do the satisfactory job out of 100 selected?**\n",
        "\n",
        "First, we need to calculate $P(X<=3)$. Here, $X$ is the random variable that represents the number of doses that will not do a satisfactory job.\n",
        "\n",
        "CDF is used to calculate the cumulative probability."
      ]
    },
    {
      "cell_type": "markdown",
      "source": [
        "𝑃(𝑋<=3) = P(X=0)+P(X=1)+P(X=2)+P(X=3)\n",
        "\n",
        "---\n",
        "\n",
        "\n",
        "𝑃(𝑋<=3) = binomial[0] + binomial[1]+binomial[2] + binomial[3]\n",
        "\n",
        "---\n",
        "\n",
        "\n"
      ],
      "metadata": {
        "id": "6MdW4jQYP6Z-"
      }
    },
    {
      "cell_type": "code",
      "execution_count": null,
      "metadata": {
        "colab": {
          "base_uri": "https://localhost:8080/",
          "height": 474
        },
        "id": "hzrA4Oz3J__y",
        "outputId": "b802fa2b-6a1c-476d-bdb0-12c79300e4f8"
      },
      "outputs": [
        {
          "output_type": "display_data",
          "data": {
            "text/plain": [
              "<Figure size 640x480 with 1 Axes>"
            ],
            "image/png": "[encoded data removed]"
          },
          "metadata": {}
        }
      ],
      "source": [
        "# plot the probability distribution\n",
        "# we are plotting the distributions here to better visualize the calculations\n",
        "# ofcourse you do not 'need' to create the following visualization to answer the question above\n",
        "# you can directly use the cdf function for probability calculations\n",
        "barl=plt.bar(k,binomial)\n",
        "plt.xlim(0,50)\n",
        "plt.title('Binomial: n=%i , p=%.2f' % (n,p), fontsize=15)\n",
        "plt.xlabel('Number of Doses')\n",
        "plt.ylabel('Probability that doses will not do a satisfactory job')\n",
        "for i in range(0,4): # 0, 1, 2,3\n",
        "    barl[i].set_color('r')\n",
        "plt.show()"
      ]
    },
    {
      "cell_type": "markdown",
      "metadata": {
        "id": "CgPbGLOSPPYq"
      },
      "source": [
        "In the above graph, the red region represents $P(X<=3)$.\n",
        "\n",
        "---\n",
        "\n",
        "\n",
        "$P(X<=3)$= P(X=0) +p(x=1) +p(x=2)+p(x=3)\n",
        "\n",
        "\n",
        "\n",
        "Let's calculate the probability that out of 100 randomly selected doses, at most 3 will not do a satisfactory job. We will use binom.cdf() for this."
      ]
    },
    {
      "cell_type": "code",
      "execution_count": null,
      "metadata": {
        "colab": {
          "base_uri": "https://localhost:8080/"
        },
        "id": "C93TNkZiPH98",
        "outputId": "f649af85-a051-44e8-85ec-dfb6c0d40fb8"
      },
      "outputs": [
        {
          "output_type": "stream",
          "name": "stdout",
          "text": [
            "0.017300609121718068\n"
          ]
        }
      ],
      "source": [
        "# Calculate the cdf\n",
        "from scipy.stats import binom\n",
        "prob_atmost3 = binom.cdf(k = 3 ,n = n, p = p)\n",
        "print(prob_atmost3)"
      ]
    },
    {
      "cell_type": "markdown",
      "metadata": {
        "id": "bttPuQE-PvsY"
      },
      "source": [
        "* The probability of at most 3 doses will not do a satisfactory job is **0.0173** i.e. 1.73%."
      ]
    },
    {
      "cell_type": "markdown",
      "metadata": {
        "id": "gLNNRfkAi1L1"
      },
      "source": [
        "## **Question 2 Solution**"
      ]
    },
    {
      "cell_type": "markdown",
      "metadata": {
        "id": "urid6LnBQWbk"
      },
      "source": [
        "**Q2. The New York city administration wants to buy 200 Doses for Health care workers who were COVID-Positive. They have contacted the company and requested 200 Doses. What is the probability that at least 30 doses will not do a satisfactory job out of 200 doses?**\n",
        "\n",
        "\n",
        "\n",
        "Let's calculate the probability that at least 30 doses will not do a satisfactory job out of 200 selected.\n",
        "\n",
        "First, we need to calculate the probability for $P(X>=30)$. Here, $X$ is the random variable that represents doses that will not do a satisfactory job.\n",
        "\n",
        "CDF is used to calculate the cumulative probability."
      ]
    },
    {
      "cell_type": "markdown",
      "source": [
        "𝑃(𝑋>=30)  = P(X=30)+p(x=31).....p(x=200)\n",
        "\n",
        "\n",
        "\n"
      ],
      "metadata": {
        "id": "brjy3vfNQlgg"
      }
    },
    {
      "cell_type": "code",
      "execution_count": null,
      "metadata": {
        "colab": {
          "base_uri": "https://localhost:8080/"
        },
        "id": "o8qJEipgQ3iI",
        "outputId": "e3ec2bd6-d595-4d54-fd36-c9f197969de3"
      },
      "outputs": [
        {
          "output_type": "execute_result",
          "data": {
            "text/plain": [
              "array([  0,   1,   2,   3,   4,   5,   6,   7,   8,   9,  10,  11,  12,\n",
              "        13,  14,  15,  16,  17,  18,  19,  20,  21,  22,  23,  24,  25,\n",
              "        26,  27,  28,  29,  30,  31,  32,  33,  34,  35,  36,  37,  38,\n",
              "        39,  40,  41,  42,  43,  44,  45,  46,  47,  48,  49,  50,  51,\n",
              "        52,  53,  54,  55,  56,  57,  58,  59,  60,  61,  62,  63,  64,\n",
              "        65,  66,  67,  68,  69,  70,  71,  72,  73,  74,  75,  76,  77,\n",
              "        78,  79,  80,  81,  82,  83,  84,  85,  86,  87,  88,  89,  90,\n",
              "        91,  92,  93,  94,  95,  96,  97,  98,  99, 100, 101, 102, 103,\n",
              "       104, 105, 106, 107, 108, 109, 110, 111, 112, 113, 114, 115, 116,\n",
              "       117, 118, 119, 120, 121, 122, 123, 124, 125, 126, 127, 128, 129,\n",
              "       130, 131, 132, 133, 134, 135, 136, 137, 138, 139, 140, 141, 142,\n",
              "       143, 144, 145, 146, 147, 148, 149, 150, 151, 152, 153, 154, 155,\n",
              "       156, 157, 158, 159, 160, 161, 162, 163, 164, 165, 166, 167, 168,\n",
              "       169, 170, 171, 172, 173, 174, 175, 176, 177, 178, 179, 180, 181,\n",
              "       182, 183, 184, 185, 186, 187, 188, 189, 190, 191, 192, 193, 194,\n",
              "       195, 196, 197, 198, 199, 200])"
            ]
          },
          "metadata": {},
          "execution_count": 11
        }
      ],
      "source": [
        "# declare the sample size in variable n which represents the number of doses selected randomly\n",
        "n = 200\n",
        "\n",
        "# declare p which represents the probability of success, i.e., the probability that a dose will not do a satisfactory job\n",
        "p = 0.09\n",
        "\n",
        "# declare the different number of doses selected in a Numpy array\n",
        "k = np.arange(0,201)\n",
        "k"
      ]
    },
    {
      "cell_type": "code",
      "execution_count": null,
      "metadata": {
        "id": "Y4pcrmVTRhde",
        "colab": {
          "base_uri": "https://localhost:8080/"
        },
        "outputId": "94c9c9c7-dc2f-431b-e889-90dd1d5a0852"
      },
      "outputs": [
        {
          "output_type": "stream",
          "name": "stdout",
          "text": [
            "[6.43099933e-009 1.27206580e-007 1.25179662e-006 8.17106805e-006\n",
            " 3.98002848e-005 1.54302643e-004 4.95972779e-004 1.35944815e-003\n",
            " 3.24362835e-003 6.84369938e-003 1.29278233e-002 2.20844934e-002\n",
            " 3.44008455e-002 4.92022237e-002 6.49979140e-002 7.97117275e-002\n",
            " 9.11538642e-002 9.75764700e-002 9.81126045e-002 9.29487832e-002\n",
            " 8.31942680e-002 7.05257531e-002 5.67517424e-002 4.34382663e-002\n",
            " 3.16836805e-002 2.20601977e-002 1.46850429e-002 9.35969766e-003\n",
            " 5.71940709e-003 3.35492314e-003 1.89129184e-003 1.02576268e-003\n",
            " 5.35777827e-004 2.69762262e-004 1.31044822e-004 6.14696906e-005\n",
            " 2.78640081e-005 1.22148132e-005 5.18193491e-006 2.12884224e-006\n",
            " 8.47442968e-007 3.27075281e-007 1.22460682e-007 4.45027064e-008\n",
            " 1.57048761e-008 5.38452896e-009 1.79441422e-009 5.81495932e-010\n",
            " 1.83314995e-010 5.62401690e-011 1.67978878e-011 4.88626343e-012\n",
            " 1.38471666e-012 3.82426414e-013 1.02960958e-013 2.70311086e-014\n",
            " 6.92221285e-015 1.72955232e-015 4.21738126e-016 1.00387656e-016\n",
            " 2.33318563e-017 5.29600774e-018 1.17428318e-018 2.54397297e-019\n",
            " 5.38584937e-020 1.11450205e-020 2.25461204e-021 4.45967217e-022\n",
            " 8.62674142e-023 1.63219761e-023 3.02097486e-024 5.47057821e-025\n",
            " 9.69374436e-026 1.68104674e-026 2.85333594e-027 4.74092742e-028\n",
            " 7.71189032e-029 1.22826739e-029 1.91559876e-030 2.92575802e-031\n",
            " 4.37658033e-032 6.41257191e-033 9.20378520e-034 1.29411093e-034\n",
            " 1.78270384e-035 2.40613162e-036 3.18214442e-037 4.12388553e-038\n",
            " 5.23725223e-039 6.51827417e-040 7.95086190e-041 9.50531733e-042\n",
            " 1.11379793e-042 1.27922910e-043 1.44014219e-044 1.58923730e-045\n",
            " 1.71912689e-046 1.82293278e-047 1.89488528e-048 1.93085213e-049\n",
            " 1.92873032e-050 1.88864899e-051 1.81295653e-052 1.70599344e-053\n",
            " 1.57368161e-054 1.42298369e-055 1.26130111e-056 1.09588245e-057\n",
            " 9.33306481e-059 7.79088382e-060 6.37435949e-061 5.11160399e-062\n",
            " 4.01726334e-063 3.09410927e-064 2.33534563e-065 1.72724082e-066\n",
            " 1.25174235e-067 8.88811138e-069 6.18310598e-070 4.21380757e-071\n",
            " 2.81306384e-072 1.83943871e-073 1.17802281e-074 7.38829638e-076\n",
            " 4.53747730e-077 2.72846987e-078 1.60624207e-079 9.25635737e-081\n",
            " 5.22100514e-082 2.88202686e-083 1.55673302e-084 8.22700951e-086\n",
            " 4.25322420e-087 2.15068430e-088 1.06352520e-089 5.14231966e-091\n",
            " 2.43071833e-092 1.12303983e-093 5.07058118e-095 2.23684425e-096\n",
            " 9.63914832e-098 4.05669090e-099 1.66700423e-100 6.68697616e-102\n",
            " 2.61784094e-103 9.99918026e-105 3.72542092e-106 1.35348327e-107\n",
            " 4.79367032e-109 1.65457461e-110 5.56373439e-112 1.82205114e-113\n",
            " 5.80917115e-115 1.80245776e-116 5.44055681e-118 1.59687382e-119\n",
            " 4.55574737e-121 1.26273952e-122 3.39880509e-124 8.87931664e-126\n",
            " 2.25032132e-127 5.52942239e-129 1.31652914e-130 3.03548147e-132\n",
            " 6.77308583e-134 1.46152501e-135 3.04766569e-137 6.13664342e-139\n",
            " 1.19216581e-140 2.23254929e-142 4.02638171e-144 6.98620308e-146\n",
            " 1.16496231e-147 1.86476848e-149 2.86180839e-151 4.20510620e-153\n",
            " 5.90752308e-155 7.92217660e-157 1.01240311e-158 1.23062076e-160\n",
            " 1.41994703e-162 1.55176046e-164 1.60216785e-166 1.55858519e-168\n",
            " 1.42417304e-170 1.21818187e-172 9.71609076e-175 7.19414372e-177\n",
            " 4.92000710e-179 3.08948641e-181 1.76899453e-183 9.15997398e-186\n",
            " 4.24655387e-188 1.74088640e-190 6.21252086e-193 1.89053889e-195\n",
            " 4.76980546e-198 9.57845688e-201 1.43533320e-203 1.42669378e-206\n",
            " 7.05507911e-210]\n"
          ]
        }
      ],
      "source": [
        "# import the required function\n",
        "from scipy.stats import binom\n",
        "# use the binom.pmf() function to generate the probability distribution\n",
        "binomial = binom.pmf(k = k,n = n, p = p)\n",
        "\n",
        "print(binomial)"
      ]
    },
    {
      "cell_type": "code",
      "source": [
        "barl=plt.bar(k,binomial,width=0.5)\n",
        "plt.xlim(0,200)\n",
        "# plt.ylim(0,0.00000001)\n",
        "plt.title('Binomial: n=%i , p=%.2f' % (n,p), fontsize=15)\n",
        "plt.xlabel('Number of Doses')\n",
        "plt.ylabel('Probability that doses will not do a satisfactory job')"
      ],
      "metadata": {
        "colab": {
          "base_uri": "https://localhost:8080/",
          "height": 491
        },
        "id": "gTYyx1pXv4oS",
        "outputId": "a8c0daba-0eb7-4e6e-b213-a05f3e3c80ae"
      },
      "execution_count": null,
      "outputs": [
        {
          "output_type": "execute_result",
          "data": {
            "text/plain": [
              "Text(0, 0.5, 'Probability that doses will not do a satisfactory job')"
            ]
          },
          "metadata": {},
          "execution_count": 14
        },
        {
          "output_type": "display_data",
          "data": {
            "text/plain": [
              "<Figure size 640x480 with 1 Axes>"
            ],
            "image/png": "[encoded data removed]"
          },
          "metadata": {}
        }
      ]
    },
    {
      "cell_type": "code",
      "execution_count": null,
      "metadata": {
        "colab": {
          "base_uri": "https://localhost:8080/",
          "height": 474
        },
        "id": "Aj4naC37PjBx",
        "outputId": "897b7227-9e13-45db-8951-e475e6830c17"
      },
      "outputs": [
        {
          "output_type": "display_data",
          "data": {
            "text/plain": [
              "<Figure size 640x480 with 1 Axes>"
            ],
            "image/png": "[encoded data removed]"
          },
          "metadata": {}
        }
      ],
      "source": [
        "# plot the probability distribution\n",
        "# we are plotting the distributions here to better visualize the calculations\n",
        "# ofcourse you do not 'need' to create the following visualization to answer the question above\n",
        "# you can directly use the cdf function for probability calculations\n",
        "barl=plt.bar(k,binomial,width=0.7)\n",
        "plt.xlim(0,201)\n",
        "plt.title('Binomial: n=%i , p=%.2f' % (n,p), fontsize=15)\n",
        "plt.xlabel('Number of Doses')\n",
        "plt.ylabel('Probability that doses will not do a satisfactory job')\n",
        "for i in range(30,201):\n",
        "    barl[i].set_color('r')\n",
        "plt.show()"
      ]
    },
    {
      "cell_type": "markdown",
      "metadata": {
        "id": "TEas5m-tQqcb"
      },
      "source": [
        "In the above graph, the red region represents $P(X>=30)$.\n",
        "\n",
        "Let's calculate the probability that out of 200 randomly selected doses, at least 30 will not do a satisfactory job.\n",
        "\n",
        "We will use binom.cdf() for this because\n",
        "here,\n",
        "\n",
        "$P(X>=30)+ P(X<30) = 1 $\n",
        "---\n",
        "$P(X>=30) = 1 - P(X<30)$\n",
        "\n"
      ]
    },
    {
      "cell_type": "code",
      "execution_count": null,
      "metadata": {
        "colab": {
          "base_uri": "https://localhost:8080/"
        },
        "id": "zxWaoAjMQm48",
        "outputId": "a5fe4f54-0ad3-4068-92fb-a90fc4bf6d7e"
      },
      "outputs": [
        {
          "name": "stdout",
          "output_type": "stream",
          "text": [
            "0.003963863923503452\n"
          ]
        }
      ],
      "source": [
        "# calculate cdf\n",
        "prob_atleast30 = 1-binom.cdf(k = 29 , n = 200, p = 0.09)\n",
        "print(prob_atleast30)"
      ]
    },
    {
      "cell_type": "markdown",
      "metadata": {
        "id": "E_2gaKjaLMGT"
      },
      "source": [
        "* The probability of at least 30 doses will not do a satisfactory job is **0.003** i.e. ~0.3%."
      ]
    },
    {
      "cell_type": "markdown",
      "metadata": {
        "id": "pRAge3-Li1L3"
      },
      "source": [
        "## **Question 3 Solution**"
      ]
    },
    {
      "cell_type": "markdown",
      "metadata": {
        "id": "a8-JKudAKKQu"
      },
      "source": [
        "**Q3. The quality assurance team wants to analyze the time of effect for doses. So, they have collected the 50 volunteers with the help of the city administration and given one dose to each volunteer. Data of these 50 doses are in the 'doses.csv' file.**\n"
      ]
    },
    {
      "cell_type": "markdown",
      "metadata": {
        "id": "xzjVtrmk9xaU"
      },
      "source": [
        "## **Data Dictionary**:\n",
        "\n",
        "We are using the dataset which is randomly generated and have two features\n",
        "\n",
        "**drug_serial_number**: It represents the serial number of each dose and is discrete in nature\n",
        "\n",
        "**time of effect**: It is measured as the **time taken for the dose to be absorbed in the body for its COVID-19 preventative effects**, such as antibody creation, to manifest. It is in hours and continuous in nature."
      ]
    },
    {
      "cell_type": "markdown",
      "metadata": {
        "id": "PH9A8NlF8Bl_"
      },
      "source": [
        "### **Reading the Sample Data**"
      ]
    },
    {
      "cell_type": "code",
      "execution_count": null,
      "metadata": {
        "colab": {
          "base_uri": "https://localhost:8080/",
          "height": 206
        },
        "id": "E6b88UwqAfLM",
        "outputId": "641ba44f-28c2-46f9-d3f1-6ced5c90baaa"
      },
      "outputs": [
        {
          "output_type": "execute_result",
          "data": {
            "text/plain": [
              "   drug_serial_number  time_of_effect\n",
              "0                 672             5.8\n",
              "1                 895            17.3\n",
              "2                 518            16.7\n",
              "3                 448            13.1\n",
              "4                 402            13.6"
            ],
            "text/html": [
              "\n",
              "  <div id=\"df-24628d57-7dc0-49cf-9168-1bcf675af375\" class=\"colab-df-container\">\n",
              "    <div>\n",
              "<style scoped>\n",
              "    .dataframe tbody tr th:only-of-type {\n",
              "        vertical-align: middle;\n",
              "    }\n",
              "\n",
              "    .dataframe tbody tr th {\n",
              "        vertical-align: top;\n",
              "    }\n",
              "\n",
              "    .dataframe thead th {\n",
              "        text-align: right;\n",
              "    }\n",
              "</style>\n",
              "<table border=\"1\" class=\"dataframe\">\n",
              "  <thead>\n",
              "    <tr style=\"text-align: right;\">\n",
              "      <th></th>\n",
              "      <th>drug_serial_number</th>\n",
              "      <th>time_of_effect</th>\n",
              "    </tr>\n",
              "  </thead>\n",
              "  <tbody>\n",
              "    <tr>\n",
              "      <th>0</th>\n",
              "      <td>672</td>\n",
              "      <td>5.8</td>\n",
              "    </tr>\n",
              "    <tr>\n",
              "      <th>1</th>\n",
              "      <td>895</td>\n",
              "      <td>17.3</td>\n",
              "    </tr>\n",
              "    <tr>\n",
              "      <th>2</th>\n",
              "      <td>518</td>\n",
              "      <td>16.7</td>\n",
              "    </tr>\n",
              "    <tr>\n",
              "      <th>3</th>\n",
              "      <td>448</td>\n",
              "      <td>13.1</td>\n",
              "    </tr>\n",
              "    <tr>\n",
              "      <th>4</th>\n",
              "      <td>402</td>\n",
              "      <td>13.6</td>\n",
              "    </tr>\n",
              "  </tbody>\n",
              "</table>\n",
              "</div>\n",
              "    <div class=\"colab-df-buttons\">\n",
              "\n",
              "  <div class=\"colab-df-container\">\n",
              "    <button class=\"colab-df-convert\" onclick=\"convertToInteractive('df-24628d57-7dc0-49cf-9168-1bcf675af375')\"\n",
              "            title=\"Convert this dataframe to an interactive table.\"\n",
              "            style=\"display:none;\">\n",
              "\n",
              "  <svg xmlns=\"http://www.w3.org/2000/svg\" height=\"24px\" viewBox=\"0 -960 960 960\">\n",
              "    <path d=\"M120-120v-720h720v720H120Zm60-500h600v-160H180v160Zm220 220h160v-160H400v160Zm0 220h160v-160H400v160ZM180-400h160v-160H180v160Zm440 0h160v-160H620v160ZM180-180h160v-160H180v160Zm440 0h160v-160H620v160Z\"/>\n",
              "  </svg>\n",
              "    </button>\n",
              "\n",
              "  <style>\n",
              "    .colab-df-container {\n",
              "      display:flex;\n",
              "      gap: 12px;\n",
              "    }\n",
              "\n",
              "    .colab-df-convert {\n",
              "      background-color: #E8F0FE;\n",
              "      border: none;\n",
              "      border-radius: 50%;\n",
              "      cursor: pointer;\n",
              "      display: none;\n",
              "      fill: #1967D2;\n",
              "      height: 32px;\n",
              "      padding: 0 0 0 0;\n",
              "      width: 32px;\n",
              "    }\n",
              "\n",
              "    .colab-df-convert:hover {\n",
              "      background-color: #E2EBFA;\n",
              "      box-shadow: 0px 1px 2px rgba(60, 64, 67, 0.3), 0px 1px 3px 1px rgba(60, 64, 67, 0.15);\n",
              "      fill: #174EA6;\n",
              "    }\n",
              "\n",
              "    .colab-df-buttons div {\n",
              "      margin-bottom: 4px;\n",
              "    }\n",
              "\n",
              "    [theme=dark] .colab-df-convert {\n",
              "      background-color: #3B4455;\n",
              "      fill: #D2E3FC;\n",
              "    }\n",
              "\n",
              "    [theme=dark] .colab-df-convert:hover {\n",
              "      background-color: #434B5C;\n",
              "      box-shadow: 0px 1px 3px 1px rgba(0, 0, 0, 0.15);\n",
              "      filter: drop-shadow(0px 1px 2px rgba(0, 0, 0, 0.3));\n",
              "      fill: #FFFFFF;\n",
              "    }\n",
              "  </style>\n",
              "\n",
              "    <script>\n",
              "      const buttonEl =\n",
              "        document.querySelector('#df-24628d57-7dc0-49cf-9168-1bcf675af375 button.colab-df-convert');\n",
              "      buttonEl.style.display =\n",
              "        google.colab.kernel.accessAllowed ? 'block' : 'none';\n",
              "\n",
              "      async function convertToInteractive(key) {\n",
              "        const element = document.querySelector('#df-24628d57-7dc0-49cf-9168-1bcf675af375');\n",
              "        const dataTable =\n",
              "          await google.colab.kernel.invokeFunction('convertToInteractive',\n",
              "                                                    [key], {});\n",
              "        if (!dataTable) return;\n",
              "\n",
              "        const docLinkHtml = 'Like what you see? Visit the ' +\n",
              "          '<a target=\"_blank\" href=https://colab.research.google.com/notebooks/data_table.ipynb>data table notebook</a>'\n",
              "          + ' to learn more about interactive tables.';\n",
              "        element.innerHTML = '';\n",
              "        dataTable['output_type'] = 'display_data';\n",
              "        await google.colab.output.renderOutput(dataTable, element);\n",
              "        const docLink = document.createElement('div');\n",
              "        docLink.innerHTML = docLinkHtml;\n",
              "        element.appendChild(docLink);\n",
              "      }\n",
              "    </script>\n",
              "  </div>\n",
              "\n",
              "\n",
              "<div id=\"df-ddae67b2-4312-431d-b725-a1c3a1baa776\">\n",
              "  <button class=\"colab-df-quickchart\" onclick=\"quickchart('df-ddae67b2-4312-431d-b725-a1c3a1baa776')\"\n",
              "            title=\"Suggest charts\"\n",
              "            style=\"display:none;\">\n",
              "\n",
              "<svg xmlns=\"http://www.w3.org/2000/svg\" height=\"24px\"viewBox=\"0 0 24 24\"\n",
              "     width=\"24px\">\n",
              "    <g>\n",
              "        <path d=\"M19 3H5c-1.1 0-2 .9-2 2v14c0 1.1.9 2 2 2h14c1.1 0 2-.9 2-2V5c0-1.1-.9-2-2-2zM9 17H7v-7h2v7zm4 0h-2V7h2v10zm4 0h-2v-4h2v4z\"/>\n",
              "    </g>\n",
              "</svg>\n",
              "  </button>\n",
              "\n",
              "<style>\n",
              "  .colab-df-quickchart {\n",
              "      --bg-color: #E8F0FE;\n",
              "      --fill-color: #1967D2;\n",
              "      --hover-bg-color: #E2EBFA;\n",
              "      --hover-fill-color: #174EA6;\n",
              "      --disabled-fill-color: #AAA;\n",
              "      --disabled-bg-color: #DDD;\n",
              "  }\n",
              "\n",
              "  [theme=dark] .colab-df-quickchart {\n",
              "      --bg-color: #3B4455;\n",
              "      --fill-color: #D2E3FC;\n",
              "      --hover-bg-color: #434B5C;\n",
              "      --hover-fill-color: #FFFFFF;\n",
              "      --disabled-bg-color: #3B4455;\n",
              "      --disabled-fill-color: #666;\n",
              "  }\n",
              "\n",
              "  .colab-df-quickchart {\n",
              "    background-color: var(--bg-color);\n",
              "    border: none;\n",
              "    border-radius: 50%;\n",
              "    cursor: pointer;\n",
              "    display: none;\n",
              "    fill: var(--fill-color);\n",
              "    height: 32px;\n",
              "    padding: 0;\n",
              "    width: 32px;\n",
              "  }\n",
              "\n",
              "  .colab-df-quickchart:hover {\n",
              "    background-color: var(--hover-bg-color);\n",
              "    box-shadow: 0 1px 2px rgba(60, 64, 67, 0.3), 0 1px 3px 1px rgba(60, 64, 67, 0.15);\n",
              "    fill: var(--button-hover-fill-color);\n",
              "  }\n",
              "\n",
              "  .colab-df-quickchart-complete:disabled,\n",
              "  .colab-df-quickchart-complete:disabled:hover {\n",
              "    background-color: var(--disabled-bg-color);\n",
              "    fill: var(--disabled-fill-color);\n",
              "    box-shadow: none;\n",
              "  }\n",
              "\n",
              "  .colab-df-spinner {\n",
              "    border: 2px solid var(--fill-color);\n",
              "    border-color: transparent;\n",
              "    border-bottom-color: var(--fill-color);\n",
              "    animation:\n",
              "      spin 1s steps(1) infinite;\n",
              "  }\n",
              "\n",
              "  @keyframes spin {\n",
              "    0% {\n",
              "      border-color: transparent;\n",
              "      border-bottom-color: var(--fill-color);\n",
              "      border-left-color: var(--fill-color);\n",
              "    }\n",
              "    20% {\n",
              "      border-color: transparent;\n",
              "      border-left-color: var(--fill-color);\n",
              "      border-top-color: var(--fill-color);\n",
              "    }\n",
              "    30% {\n",
              "      border-color: transparent;\n",
              "      border-left-color: var(--fill-color);\n",
              "      border-top-color: var(--fill-color);\n",
              "      border-right-color: var(--fill-color);\n",
              "    }\n",
              "    40% {\n",
              "      border-color: transparent;\n",
              "      border-right-color: var(--fill-color);\n",
              "      border-top-color: var(--fill-color);\n",
              "    }\n",
              "    60% {\n",
              "      border-color: transparent;\n",
              "      border-right-color: var(--fill-color);\n",
              "    }\n",
              "    80% {\n",
              "      border-color: transparent;\n",
              "      border-right-color: var(--fill-color);\n",
              "      border-bottom-color: var(--fill-color);\n",
              "    }\n",
              "    90% {\n",
              "      border-color: transparent;\n",
              "      border-bottom-color: var(--fill-color);\n",
              "    }\n",
              "  }\n",
              "</style>\n",
              "\n",
              "  <script>\n",
              "    async function quickchart(key) {\n",
              "      const quickchartButtonEl =\n",
              "        document.querySelector('#' + key + ' button');\n",
              "      quickchartButtonEl.disabled = true;  // To prevent multiple clicks.\n",
              "      quickchartButtonEl.classList.add('colab-df-spinner');\n",
              "      try {\n",
              "        const charts = await google.colab.kernel.invokeFunction(\n",
              "            'suggestCharts', [key], {});\n",
              "      } catch (error) {\n",
              "        console.error('Error during call to suggestCharts:', error);\n",
              "      }\n",
              "      quickchartButtonEl.classList.remove('colab-df-spinner');\n",
              "      quickchartButtonEl.classList.add('colab-df-quickchart-complete');\n",
              "    }\n",
              "    (() => {\n",
              "      let quickchartButtonEl =\n",
              "        document.querySelector('#df-ddae67b2-4312-431d-b725-a1c3a1baa776 button');\n",
              "      quickchartButtonEl.style.display =\n",
              "        google.colab.kernel.accessAllowed ? 'block' : 'none';\n",
              "    })();\n",
              "  </script>\n",
              "</div>\n",
              "\n",
              "    </div>\n",
              "  </div>\n"
            ],
            "application/vnd.google.colaboratory.intrinsic+json": {
              "type": "dataframe",
              "variable_name": "drug",
              "summary": "{\n  \"name\": \"drug\",\n  \"rows\": 50,\n  \"fields\": [\n    {\n      \"column\": \"drug_serial_number\",\n      \"properties\": {\n        \"dtype\": \"number\",\n        \"std\": 245,\n        \"min\": 116,\n        \"max\": 993,\n        \"num_unique_values\": 48,\n        \"samples\": [\n          910,\n          449,\n          681\n        ],\n        \"semantic_type\": \"\",\n        \"description\": \"\"\n      }\n    },\n    {\n      \"column\": \"time_of_effect\",\n      \"properties\": {\n        \"dtype\": \"number\",\n        \"std\": 4.7455280775371955,\n        \"min\": 5.0,\n        \"max\": 23.8,\n        \"num_unique_values\": 45,\n        \"samples\": [\n          11.3,\n          5.2,\n          9.5\n        ],\n        \"semantic_type\": \"\",\n        \"description\": \"\"\n      }\n    }\n  ]\n}"
            }
          },
          "metadata": {},
          "execution_count": 21
        }
      ],
      "source": [
        "drug = pd.read_csv('/content/doses.csv')\n",
        "drug.head()"
      ]
    },
    {
      "cell_type": "markdown",
      "metadata": {
        "id": "OiNQWmnx-bOQ"
      },
      "source": [
        "## **Overview of the dataset**"
      ]
    },
    {
      "cell_type": "code",
      "execution_count": null,
      "metadata": {
        "colab": {
          "base_uri": "https://localhost:8080/"
        },
        "id": "08ZOa6zpAu-h",
        "outputId": "3a209717-2516-4ad1-dd4d-a6de33b29807"
      },
      "outputs": [
        {
          "output_type": "stream",
          "name": "stdout",
          "text": [
            "<class 'pandas.core.frame.DataFrame'>\n",
            "RangeIndex: 50 entries, 0 to 49\n",
            "Data columns (total 2 columns):\n",
            " #   Column              Non-Null Count  Dtype  \n",
            "---  ------              --------------  -----  \n",
            " 0   drug_serial_number  50 non-null     int64  \n",
            " 1   time_of_effect      50 non-null     float64\n",
            "dtypes: float64(1), int64(1)\n",
            "memory usage: 928.0 bytes\n"
          ]
        }
      ],
      "source": [
        "drug.info()"
      ]
    },
    {
      "cell_type": "markdown",
      "metadata": {
        "id": "X8Nu1fcmA4En"
      },
      "source": [
        "* As you can see from the result of the info function, there are **no null values** present in any of the columns."
      ]
    },
    {
      "cell_type": "markdown",
      "metadata": {
        "id": "eKmM-Hv9KySo"
      },
      "source": [
        "Let's calculate **the mean and standard deviation of the time of effect for the sample doses.**"
      ]
    },
    {
      "cell_type": "code",
      "execution_count": null,
      "metadata": {
        "colab": {
          "base_uri": "https://localhost:8080/"
        },
        "id": "9JmSPFqkRodY",
        "outputId": "193c4a21-c023-4051-a446-0f8db40a4004"
      },
      "outputs": [
        {
          "output_type": "stream",
          "name": "stdout",
          "text": [
            "The estimated mean is 13.44\n",
            "The estimated standard deviation is 4.75\n"
          ]
        }
      ],
      "source": [
        "# import the required function\n",
        "from scipy.stats import norm\n",
        "# estimate the mean and standard deviation of the time of effect for the doses\n",
        "mu = drug['time_of_effect'].mean()\n",
        "sigma = drug['time_of_effect'].std()\n",
        "print('The estimated mean is', round(mu,2))\n",
        "print('The estimated standard deviation is', round(sigma,2))"
      ]
    },
    {
      "cell_type": "markdown",
      "metadata": {
        "id": "COpe00rKM66m"
      },
      "source": [
        "### **Plotting the Distribution**\n",
        "\n",
        "It will help us analyze the shape of the distribution of time of effect for doses."
      ]
    },
    {
      "cell_type": "code",
      "execution_count": null,
      "metadata": {
        "colab": {
          "base_uri": "https://localhost:8080/",
          "height": 386
        },
        "id": "8X0snKzrC0pO",
        "outputId": "a75b4d5a-c665-4615-f955-f91d9f4fed9b"
      },
      "outputs": [
        {
          "data": {
            "text/plain": [
              "<seaborn.axisgrid.FacetGrid at 0x1285beb61f0>"
            ]
          },
          "execution_count": 18,
          "metadata": {},
          "output_type": "execute_result"
        },
        {
          "data": {
            "image/png": "[encoded data removed]",
            "text/plain": [
              "<Figure size 360x360 with 1 Axes>"
            ]
          },
          "metadata": {
            "needs_background": "light"
          },
          "output_type": "display_data"
        }
      ],
      "source": [
        "import seaborn as sns\n",
        "sns.displot(drug['time_of_effect'],kind=\"kde\")"
      ]
    },
    {
      "cell_type": "markdown",
      "metadata": {
        "id": "RuxwnAxMNZ2n"
      },
      "source": [
        "* We can see in the above plot, that the shape of the distribution is not perfectly normal because we have just 50 observations in the sample. But, we can assume this data distribution to be normal and perform our calculations based on the normality assumption."
      ]
    },
    {
      "cell_type": "markdown",
      "metadata": {
        "id": "GjG-LOUgDtln"
      },
      "source": [
        "**a) What is the probability that the time of effect is less than 11.5 hours?**"
      ]
    },
    {
      "cell_type": "code",
      "execution_count": null,
      "metadata": {
        "colab": {
          "base_uri": "https://localhost:8080/"
        },
        "id": "Rs6QKIKOLX4n",
        "outputId": "8003c6cd-362b-4052-f67b-e1f9bf151fde"
      },
      "outputs": [
        {
          "name": "stdout",
          "output_type": "stream",
          "text": [
            "The probability that a dose will take less than 11.5 hours is 0.3412\n"
          ]
        }
      ],
      "source": [
        "# find the cumulative probability\n",
        "# norm.cdf() calculates the cumulative probability\n",
        "prob = norm.cdf(11.5, mu, sigma)\n",
        "print('The probability that a dose will take less than 11.5 hours is', round(prob, 4))"
      ]
    },
    {
      "cell_type": "markdown",
      "metadata": {
        "id": "askOv-hMFB9X"
      },
      "source": [
        "**b) What is the 90th percentile of the time of effect for doses?**"
      ]
    },
    {
      "cell_type": "code",
      "execution_count": null,
      "metadata": {
        "id": "7OLQd57CD2pg"
      },
      "outputs": [],
      "source": [
        "perc_90th = norm.ppf(0.90, mu, sigma)# prob point function"
      ]
    },
    {
      "cell_type": "code",
      "execution_count": null,
      "metadata": {
        "colab": {
          "base_uri": "https://localhost:8080/"
        },
        "id": "g1cGPQHNEjHR",
        "outputId": "dabca7b9-82a7-4957-baa6-6c8df06c1bb6"
      },
      "outputs": [
        {
          "name": "stdout",
          "output_type": "stream",
          "text": [
            "The 90th percentile of the time of effect for doses is 19.52\n"
          ]
        }
      ],
      "source": [
        "print('The 90th percentile of the time of effect for doses is', round(perc_90th, 2))"
      ]
    },
    {
      "cell_type": "markdown",
      "metadata": {
        "id": "41ch2tXRGAre"
      },
      "source": [
        "**c) For the effectiveness test of the vaccine, estimate the range in which the population mean (effective time) will lie with a 95% confidence level.**"
      ]
    },
    {
      "cell_type": "markdown",
      "metadata": {
        "id": "OJJl6jOMi1L8"
      },
      "source": [
        "The population standard deviation is not known here. Therefore, we will calculate the confidence interval using the t-distribution."
      ]
    },
    {
      "cell_type": "code",
      "execution_count": null,
      "metadata": {
        "colab": {
          "base_uri": "https://localhost:8080/"
        },
        "id": "yZl-i6l_Gzng",
        "outputId": "d72083e0-4ea7-4d52-99e2-d918dc39f89c"
      },
      "outputs": [
        {
          "data": {
            "text/plain": [
              "array([12.09, 14.79])"
            ]
          },
          "execution_count": 22,
          "metadata": {},
          "output_type": "execute_result"
        }
      ],
      "source": [
        "# import the required function\n",
        "from scipy.stats import t\n",
        "\n",
        "# set the values of the sample mean and sample standard deviation\n",
        "x_bar, s = mu, sigma\n",
        "\n",
        "# set the value of sample size and degrees of freedom\n",
        "n = 50\n",
        "k = n - 1 #This adjustment is made because when estimating the population mean from a sample mean, we lose one degree of freedom due to the constraint that the sample mean must equal the population mean.\n",
        "# This adjustment helps to make the estimation more accurate.\n",
        "\n",
        "# construct the confidence interval\n",
        "np.round(t.interval(0.95, df = k, loc = x_bar, scale = s/np.sqrt(n)), 2)\n",
        "\n",
        "#s / np.sqrt(n) --> computes the standard error of the mean (SEM), which represents the spread of the sample mean's distribution."
      ]
    },
    {
      "cell_type": "markdown",
      "metadata": {
        "id": "nD9IcSVgHpqr"
      },
      "source": [
        "* **95% of the time**, the mean effective time of doses will be between **12.09 hours and 14.79 hours.**"
      ]
    }
  ],
  "metadata": {
    "colab": {
      "provenance": []
    },
    "kernelspec": {
      "display_name": "Python 3 (ipykernel)",
      "language": "python",
      "name": "python3"
    },
    "language_info": {
      "codemirror_mode": {
        "name": "ipython",
        "version": 3
      },
      "file_extension": ".py",
      "mimetype": "text/x-python",
      "name": "python",
      "nbconvert_exporter": "python",
      "pygments_lexer": "ipython3",
      "version": "3.9.7"
    }
  },
  "nbformat": 4,
  "nbformat_minor": 0
}