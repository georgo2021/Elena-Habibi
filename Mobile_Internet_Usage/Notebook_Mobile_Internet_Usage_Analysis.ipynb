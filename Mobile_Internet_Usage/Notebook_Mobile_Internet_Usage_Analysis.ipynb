{
  "cells": [
    {
      "cell_type": "markdown",
      "metadata": {
        "id": "fNQ9mYtCb3yM"
      },
      "source": [
        "\n",
        "## Context:\n",
        "ExperienceMyServices reported that a typical American spends an average of 144 minutes (2.4 hours) per day accessing the Internet via a mobile device with a standard deviation of 110 minutes.\n",
        "\n",
        "To test the validity of this statement, you collected 30 samples from friends and family. The results for the time spent per day accessing the Internet via a mobile device (in minutes) are stored in \"InternetMobileTime.csv\".\n",
        "\n",
        "## Key Question:\n",
        "Is there enough statistical evidence to conclude that the population mean time spent per day accessing the Internet via mobile device is different from 144 minutes? Use the p-value approach and a level of significance of 0.05.\n",
        "\n",
        "**Note:** We can assume that the samples are randomly selected, independent, and come from a normally distributed population."
      ]
    },
    {
      "cell_type": "markdown",
      "metadata": {
        "id": "5nFy-Lkmb3yR"
      },
      "source": [
        "### Importing necessary libraries"
      ]
    },
    {
      "cell_type": "code",
      "execution_count": null,
      "metadata": {
        "ExecuteTime": {
          "end_time": "2020-05-12T08:39:10.385004Z",
          "start_time": "2020-05-12T08:39:07.270284Z"
        },
        "id": "MyVUpMAeb3yS"
      },
      "outputs": [],
      "source": [
        "# import the important packages\n",
        "import pandas as pd  # library used for data manipulation and analysis\n",
        "import numpy as np  # library used for working with arrays\n",
        "import matplotlib.pyplot as plt  # library for visualization\n",
        "import seaborn as sns  # library for visualization\n",
        "%matplotlib inline\n",
        "\n",
        "import scipy.stats as stats  # this library contains a large number of probability distributions as well as a growing library of statistical functions"
      ]
    },
    {
      "cell_type": "markdown",
      "metadata": {
        "id": "H0wFBWuMb3yT"
      },
      "source": [
        "### Importing the  Data"
      ]
    },
    {
      "cell_type": "code",
      "execution_count": null,
      "metadata": {
        "ExecuteTime": {
          "end_time": "2020-05-12T08:39:10.606474Z",
          "start_time": "2020-05-12T08:39:10.476659Z"
        },
        "id": "1jnK18ELb3yT",
        "outputId": "e3cc82c2-5c29-4a83-9794-f65d37ab8fe7",
        "colab": {
          "base_uri": "https://localhost:8080/",
          "height": 206
        }
      },
      "outputs": [
        {
          "output_type": "execute_result",
          "data": {
            "text/plain": [
              "   Minutes\n",
              "0       72\n",
              "1      144\n",
              "2       48\n",
              "3       72\n",
              "4       36"
            ],
            "text/html": [
              "\n",
              "  <div id=\"df-deb9bf38-4818-4c6e-a4bf-7cb743736961\" class=\"colab-df-container\">\n",
              "    <div>\n",
              "<style scoped>\n",
              "    .dataframe tbody tr th:only-of-type {\n",
              "        vertical-align: middle;\n",
              "    }\n",
              "\n",
              "    .dataframe tbody tr th {\n",
              "        vertical-align: top;\n",
              "    }\n",
              "\n",
              "    .dataframe thead th {\n",
              "        text-align: right;\n",
              "    }\n",
              "</style>\n",
              "<table border=\"1\" class=\"dataframe\">\n",
              "  <thead>\n",
              "    <tr style=\"text-align: right;\">\n",
              "      <th></th>\n",
              "      <th>Minutes</th>\n",
              "    </tr>\n",
              "  </thead>\n",
              "  <tbody>\n",
              "    <tr>\n",
              "      <th>0</th>\n",
              "      <td>72</td>\n",
              "    </tr>\n",
              "    <tr>\n",
              "      <th>1</th>\n",
              "      <td>144</td>\n",
              "    </tr>\n",
              "    <tr>\n",
              "      <th>2</th>\n",
              "      <td>48</td>\n",
              "    </tr>\n",
              "    <tr>\n",
              "      <th>3</th>\n",
              "      <td>72</td>\n",
              "    </tr>\n",
              "    <tr>\n",
              "      <th>4</th>\n",
              "      <td>36</td>\n",
              "    </tr>\n",
              "  </tbody>\n",
              "</table>\n",
              "</div>\n",
              "    <div class=\"colab-df-buttons\">\n",
              "\n",
              "  <div class=\"colab-df-container\">\n",
              "    <button class=\"colab-df-convert\" onclick=\"convertToInteractive('df-deb9bf38-4818-4c6e-a4bf-7cb743736961')\"\n",
              "            title=\"Convert this dataframe to an interactive table.\"\n",
              "            style=\"display:none;\">\n",
              "\n",
              "  <svg xmlns=\"http://www.w3.org/2000/svg\" height=\"24px\" viewBox=\"0 -960 960 960\">\n",
              "    <path d=\"M120-120v-720h720v720H120Zm60-500h600v-160H180v160Zm220 220h160v-160H400v160Zm0 220h160v-160H400v160ZM180-400h160v-160H180v160Zm440 0h160v-160H620v160ZM180-180h160v-160H180v160Zm440 0h160v-160H620v160Z\"/>\n",
              "  </svg>\n",
              "    </button>\n",
              "\n",
              "  <style>\n",
              "    .colab-df-container {\n",
              "      display:flex;\n",
              "      gap: 12px;\n",
              "    }\n",
              "\n",
              "    .colab-df-convert {\n",
              "      background-color: #E8F0FE;\n",
              "      border: none;\n",
              "      border-radius: 50%;\n",
              "      cursor: pointer;\n",
              "      display: none;\n",
              "      fill: #1967D2;\n",
              "      height: 32px;\n",
              "      padding: 0 0 0 0;\n",
              "      width: 32px;\n",
              "    }\n",
              "\n",
              "    .colab-df-convert:hover {\n",
              "      background-color: #E2EBFA;\n",
              "      box-shadow: 0px 1px 2px rgba(60, 64, 67, 0.3), 0px 1px 3px 1px rgba(60, 64, 67, 0.15);\n",
              "      fill: #174EA6;\n",
              "    }\n",
              "\n",
              "    .colab-df-buttons div {\n",
              "      margin-bottom: 4px;\n",
              "    }\n",
              "\n",
              "    [theme=dark] .colab-df-convert {\n",
              "      background-color: #3B4455;\n",
              "      fill: #D2E3FC;\n",
              "    }\n",
              "\n",
              "    [theme=dark] .colab-df-convert:hover {\n",
              "      background-color: #434B5C;\n",
              "      box-shadow: 0px 1px 3px 1px rgba(0, 0, 0, 0.15);\n",
              "      filter: drop-shadow(0px 1px 2px rgba(0, 0, 0, 0.3));\n",
              "      fill: #FFFFFF;\n",
              "    }\n",
              "  </style>\n",
              "\n",
              "    <script>\n",
              "      const buttonEl =\n",
              "        document.querySelector('#df-deb9bf38-4818-4c6e-a4bf-7cb743736961 button.colab-df-convert');\n",
              "      buttonEl.style.display =\n",
              "        google.colab.kernel.accessAllowed ? 'block' : 'none';\n",
              "\n",
              "      async function convertToInteractive(key) {\n",
              "        const element = document.querySelector('#df-deb9bf38-4818-4c6e-a4bf-7cb743736961');\n",
              "        const dataTable =\n",
              "          await google.colab.kernel.invokeFunction('convertToInteractive',\n",
              "                                                    [key], {});\n",
              "        if (!dataTable) return;\n",
              "\n",
              "        const docLinkHtml = 'Like what you see? Visit the ' +\n",
              "          '<a target=\"_blank\" href=https://colab.research.google.com/notebooks/data_table.ipynb>data table notebook</a>'\n",
              "          + ' to learn more about interactive tables.';\n",
              "        element.innerHTML = '';\n",
              "        dataTable['output_type'] = 'display_data';\n",
              "        await google.colab.output.renderOutput(dataTable, element);\n",
              "        const docLink = document.createElement('div');\n",
              "        docLink.innerHTML = docLinkHtml;\n",
              "        element.appendChild(docLink);\n",
              "      }\n",
              "    </script>\n",
              "  </div>\n",
              "\n",
              "\n",
              "<div id=\"df-058d03a0-5a9e-4cc2-99a6-7c56f7010090\">\n",
              "  <button class=\"colab-df-quickchart\" onclick=\"quickchart('df-058d03a0-5a9e-4cc2-99a6-7c56f7010090')\"\n",
              "            title=\"Suggest charts\"\n",
              "            style=\"display:none;\">\n",
              "\n",
              "<svg xmlns=\"http://www.w3.org/2000/svg\" height=\"24px\"viewBox=\"0 0 24 24\"\n",
              "     width=\"24px\">\n",
              "    <g>\n",
              "        <path d=\"M19 3H5c-1.1 0-2 .9-2 2v14c0 1.1.9 2 2 2h14c1.1 0 2-.9 2-2V5c0-1.1-.9-2-2-2zM9 17H7v-7h2v7zm4 0h-2V7h2v10zm4 0h-2v-4h2v4z\"/>\n",
              "    </g>\n",
              "</svg>\n",
              "  </button>\n",
              "\n",
              "<style>\n",
              "  .colab-df-quickchart {\n",
              "      --bg-color: #E8F0FE;\n",
              "      --fill-color: #1967D2;\n",
              "      --hover-bg-color: #E2EBFA;\n",
              "      --hover-fill-color: #174EA6;\n",
              "      --disabled-fill-color: #AAA;\n",
              "      --disabled-bg-color: #DDD;\n",
              "  }\n",
              "\n",
              "  [theme=dark] .colab-df-quickchart {\n",
              "      --bg-color: #3B4455;\n",
              "      --fill-color: #D2E3FC;\n",
              "      --hover-bg-color: #434B5C;\n",
              "      --hover-fill-color: #FFFFFF;\n",
              "      --disabled-bg-color: #3B4455;\n",
              "      --disabled-fill-color: #666;\n",
              "  }\n",
              "\n",
              "  .colab-df-quickchart {\n",
              "    background-color: var(--bg-color);\n",
              "    border: none;\n",
              "    border-radius: 50%;\n",
              "    cursor: pointer;\n",
              "    display: none;\n",
              "    fill: var(--fill-color);\n",
              "    height: 32px;\n",
              "    padding: 0;\n",
              "    width: 32px;\n",
              "  }\n",
              "\n",
              "  .colab-df-quickchart:hover {\n",
              "    background-color: var(--hover-bg-color);\n",
              "    box-shadow: 0 1px 2px rgba(60, 64, 67, 0.3), 0 1px 3px 1px rgba(60, 64, 67, 0.15);\n",
              "    fill: var(--button-hover-fill-color);\n",
              "  }\n",
              "\n",
              "  .colab-df-quickchart-complete:disabled,\n",
              "  .colab-df-quickchart-complete:disabled:hover {\n",
              "    background-color: var(--disabled-bg-color);\n",
              "    fill: var(--disabled-fill-color);\n",
              "    box-shadow: none;\n",
              "  }\n",
              "\n",
              "  .colab-df-spinner {\n",
              "    border: 2px solid var(--fill-color);\n",
              "    border-color: transparent;\n",
              "    border-bottom-color: var(--fill-color);\n",
              "    animation:\n",
              "      spin 1s steps(1) infinite;\n",
              "  }\n",
              "\n",
              "  @keyframes spin {\n",
              "    0% {\n",
              "      border-color: transparent;\n",
              "      border-bottom-color: var(--fill-color);\n",
              "      border-left-color: var(--fill-color);\n",
              "    }\n",
              "    20% {\n",
              "      border-color: transparent;\n",
              "      border-left-color: var(--fill-color);\n",
              "      border-top-color: var(--fill-color);\n",
              "    }\n",
              "    30% {\n",
              "      border-color: transparent;\n",
              "      border-left-color: var(--fill-color);\n",
              "      border-top-color: var(--fill-color);\n",
              "      border-right-color: var(--fill-color);\n",
              "    }\n",
              "    40% {\n",
              "      border-color: transparent;\n",
              "      border-right-color: var(--fill-color);\n",
              "      border-top-color: var(--fill-color);\n",
              "    }\n",
              "    60% {\n",
              "      border-color: transparent;\n",
              "      border-right-color: var(--fill-color);\n",
              "    }\n",
              "    80% {\n",
              "      border-color: transparent;\n",
              "      border-right-color: var(--fill-color);\n",
              "      border-bottom-color: var(--fill-color);\n",
              "    }\n",
              "    90% {\n",
              "      border-color: transparent;\n",
              "      border-bottom-color: var(--fill-color);\n",
              "    }\n",
              "  }\n",
              "</style>\n",
              "\n",
              "  <script>\n",
              "    async function quickchart(key) {\n",
              "      const quickchartButtonEl =\n",
              "        document.querySelector('#' + key + ' button');\n",
              "      quickchartButtonEl.disabled = true;  // To prevent multiple clicks.\n",
              "      quickchartButtonEl.classList.add('colab-df-spinner');\n",
              "      try {\n",
              "        const charts = await google.colab.kernel.invokeFunction(\n",
              "            'suggestCharts', [key], {});\n",
              "      } catch (error) {\n",
              "        console.error('Error during call to suggestCharts:', error);\n",
              "      }\n",
              "      quickchartButtonEl.classList.remove('colab-df-spinner');\n",
              "      quickchartButtonEl.classList.add('colab-df-quickchart-complete');\n",
              "    }\n",
              "    (() => {\n",
              "      let quickchartButtonEl =\n",
              "        document.querySelector('#df-058d03a0-5a9e-4cc2-99a6-7c56f7010090 button');\n",
              "      quickchartButtonEl.style.display =\n",
              "        google.colab.kernel.accessAllowed ? 'block' : 'none';\n",
              "    })();\n",
              "  </script>\n",
              "</div>\n",
              "\n",
              "    </div>\n",
              "  </div>\n"
            ],
            "application/vnd.google.colaboratory.intrinsic+json": {
              "type": "dataframe",
              "variable_name": "mydata",
              "summary": "{\n  \"name\": \"mydata\",\n  \"rows\": 30,\n  \"fields\": [\n    {\n      \"column\": \"Minutes\",\n      \"properties\": {\n        \"dtype\": \"number\",\n        \"std\": 141,\n        \"min\": 24,\n        \"max\": 576,\n        \"num_unique_values\": 14,\n        \"samples\": [\n          288,\n          576,\n          72\n        ],\n        \"semantic_type\": \"\",\n        \"description\": \"\"\n      }\n    }\n  ]\n}"
            }
          },
          "metadata": {},
          "execution_count": 2
        }
      ],
      "source": [
        "mydata = pd.read_csv('/content/InternetMobileTime.csv')\n",
        "mydata.head()"
      ]
    },
    {
      "cell_type": "code",
      "execution_count": null,
      "metadata": {
        "id": "rctzWw0xb3yV",
        "outputId": "972aecc6-67c0-485e-e51f-00ec6628698f",
        "colab": {
          "base_uri": "https://localhost:8080/"
        }
      },
      "outputs": [
        {
          "output_type": "execute_result",
          "data": {
            "text/plain": [
              "(30, 1)"
            ]
          },
          "metadata": {},
          "execution_count": 3
        }
      ],
      "source": [
        "mydata.shape"
      ]
    },
    {
      "cell_type": "markdown",
      "metadata": {
        "id": "SOItsu_8b3yW"
      },
      "source": [
        "### Step 1: Define null and alternate hypotheses"
      ]
    },
    {
      "cell_type": "markdown",
      "metadata": {
        "id": "urdL3y-yb3yX"
      },
      "source": [
        "#### The null hypothesis states that the mean Internet usage time, $\\mu$ is equal to 144.\n",
        "#### The alternative hypothesis states that the mean Internet usage time, $\\mu$ is not equal to 144.\n",
        "\n",
        "* $H_0$: $\\mu$ = 144\n",
        "* $H_a$: $\\mu$ $\\neq$ 144"
      ]
    },
    {
      "cell_type": "markdown",
      "metadata": {
        "id": "UWcBNG9jb3yY"
      },
      "source": [
        "### Step 2: Decide the significance level"
      ]
    },
    {
      "cell_type": "markdown",
      "metadata": {
        "id": "n7H1gdpJb3yY"
      },
      "source": [
        "Here, we are given that $\\alpha$ = 0.05."
      ]
    },
    {
      "cell_type": "code",
      "execution_count": null,
      "metadata": {
        "ExecuteTime": {
          "end_time": "2020-05-12T08:39:11.495916Z",
          "start_time": "2020-05-12T08:39:11.488554Z"
        },
        "id": "Gy3bJLLmb3yZ",
        "outputId": "a6aa5d45-bae4-49ee-d952-122f10101ff9",
        "colab": {
          "base_uri": "https://localhost:8080/"
        }
      },
      "outputs": [
        {
          "output_type": "stream",
          "name": "stdout",
          "text": [
            "The sample size for this problem is 30\n"
          ]
        }
      ],
      "source": [
        "print(\"The sample size for this problem is\", len(mydata))"
      ]
    },
    {
      "cell_type": "markdown",
      "metadata": {
        "id": "gIND9yN0b3yZ"
      },
      "source": [
        "### Step 3: Identify the test statistic"
      ]
    },
    {
      "cell_type": "markdown",
      "metadata": {
        "id": "Haq829H5b3ya"
      },
      "source": [
        "The population is normally distributed and the population standard deviation is known to be equal to 110. So, we can use the Z-test statistic."
      ]
    },
    {
      "cell_type": "markdown",
      "metadata": {
        "id": "gCmn7vI5b3ya"
      },
      "source": [
        "### Step 4: Calculate the p-value using z-statistic"
      ]
    },
    {
      "cell_type": "code",
      "execution_count": null,
      "metadata": {
        "id": "jAR-d5ypb3ye",
        "colab": {
          "base_uri": "https://localhost:8080/"
        },
        "outputId": "c140f6cd-8428-4733-fc9f-df549b88d725"
      },
      "outputs": [
        {
          "output_type": "stream",
          "name": "stdout",
          "text": [
            "180.46666666666667\n"
          ]
        }
      ],
      "source": [
        "sample_mean = mydata[\"Minutes\"].mean()\n",
        "print(sample_mean)"
      ]
    },
    {
      "cell_type": "code",
      "execution_count": null,
      "metadata": {
        "ExecuteTime": {
          "end_time": "2020-05-12T08:39:14.193366Z",
          "start_time": "2020-05-12T08:39:14.185193Z"
        },
        "id": "YJj4tUYQb3ye"
      },
      "outputs": [],
      "source": [
        "# calculating z-stat - It is a measure of how many standard deviations a particular data point or sample mean is from the mean of a distribution.\n",
        "\n",
        "n=30 # total samples\n",
        "mu = 144  # pop mean\n",
        "sigma = 110 # pop stand devia\n",
        "sample_mean = 180.46666666666667\n",
        "\n",
        "test_stat =  (sample_mean - mu)/(sigma/np.sqrt(n)) # denominator (when deal with sample data)-  standard error of the mean."
      ]
    },
    {
      "cell_type": "code",
      "execution_count": null,
      "metadata": {
        "id": "6kTNDptbb3ye",
        "outputId": "ee4c829a-5d6e-4ecd-b745-b336732f2f37",
        "colab": {
          "base_uri": "https://localhost:8080/"
        }
      },
      "outputs": [
        {
          "output_type": "execute_result",
          "data": {
            "text/plain": [
              "1.8157832663959144"
            ]
          },
          "metadata": {},
          "execution_count": 8
        }
      ],
      "source": [
        "test_stat"
      ]
    },
    {
      "cell_type": "code",
      "execution_count": null,
      "metadata": {
        "id": "s30Wp6Pdb3yf"
      },
      "outputs": [],
      "source": [
        "from scipy.stats import norm\n",
        "\n",
        "# p-value for one-tailed test\n",
        "p_value1 = 1 - norm.cdf(test_stat)\n",
        "\n",
        "# we can find the p_value for the the two-tailed test from the one-tailed test\n",
        "p_value_ztest = p_value1*2"
      ]
    },
    {
      "cell_type": "code",
      "execution_count": null,
      "metadata": {
        "id": "W6KfZDe7b3yf",
        "outputId": "77254b39-a079-4db9-c2b2-6384ff549d48"
      },
      "outputs": [
        {
          "name": "stdout",
          "output_type": "stream",
          "text": [
            "The p-value is: 0.06940362517785204 \n"
          ]
        }
      ],
      "source": [
        "print('The p-value is: {0} '.format(p_value_ztest))"
      ]
    },
    {
      "cell_type": "markdown",
      "metadata": {
        "id": "224Pd6vgb3yg"
      },
      "source": [
        "### Step 5: Decide to reject or not to reject the null hypothesis based on the z-statistic"
      ]
    },
    {
      "cell_type": "code",
      "execution_count": null,
      "metadata": {
        "id": "Li5vbRrkb3yg",
        "outputId": "0aae5590-78af-4d9d-fa0f-07d3efb07fbd"
      },
      "outputs": [
        {
          "name": "stdout",
          "output_type": "stream",
          "text": [
            "Level of significance: 0.05\n",
            "We have no evidence to reject the null hypothesis since the p-value is greater than the level of significance\n"
          ]
        }
      ],
      "source": [
        "alpha_value = 0.05 # level of significance\n",
        "\n",
        "print('Level of significance: %.2f' %alpha_value)\n",
        "\n",
        "if p_value_ztest < alpha_value:\n",
        "    print('We have evidence to reject the null hypothesis since the p-value is less than the level of significance'.format(p_value_ztest))\n",
        "else:\n",
        "    print('We have no evidence to reject the null hypothesis since the p-value is greater than the level of significance'.format(p_value_ztest))"
      ]
    },
    {
      "cell_type": "markdown",
      "metadata": {
        "id": "MiNHxWM3b3yh"
      },
      "source": [
        "We have calculated the z-statistic, which works on the assumption that population standard deviation is known but in real life, this assumption is very unlikely, and to deal with this problem there is another test called **t-statistic**, which is similar to the z-statistic, with the assumption that population standard deviations are not known and sample standard deviation is used to calculate the test statistic."
      ]
    },
    {
      "cell_type": "markdown",
      "metadata": {
        "id": "O2ywLjzsb3yh"
      },
      "source": [
        "we  will use **scipy.stats.ttest_1samp** which calculates the t-test for the mean of one sample given the sample observations. This function returns the t statistic and the p-value for a two-tailed  t-test."
      ]
    },
    {
      "cell_type": "markdown",
      "metadata": {
        "id": "G6ejuDieb3yi"
      },
      "source": [
        "### Step 6: Calculate the p-value using t-statistic"
      ]
    },
    {
      "cell_type": "code",
      "source": [],
      "metadata": {
        "id": "aSxlTo48CEg_"
      },
      "execution_count": null,
      "outputs": []
    },
    {
      "cell_type": "code",
      "execution_count": null,
      "metadata": {
        "id": "MuOryIk3b3yi",
        "outputId": "caa36bb1-75c6-42d5-f923-f514f09fe3ed"
      },
      "outputs": [
        {
          "name": "stdout",
          "output_type": "stream",
          "text": [
            "One sample t test \n",
            "t statistic: [1.41131966] p value: [0.16878961] \n"
          ]
        }
      ],
      "source": [
        "t_statistic, p_value_ttest, df = stats.ttest_1samp(mydata, popmean = 144)\n",
        "print('One sample t test \\nt statistic: {0} p value: {1} '.format(t_statistic, p_value_ttest))"
      ]
    },
    {
      "cell_type": "markdown",
      "metadata": {
        "id": "XbTKSdV8b3yi"
      },
      "source": [
        "### Step 7: Decide to reject or not to reject the null hypothesis based on t-statistic"
      ]
    },
    {
      "cell_type": "code",
      "execution_count": null,
      "metadata": {
        "ExecuteTime": {
          "end_time": "2020-03-27T11:10:29.927035Z",
          "start_time": "2020-03-27T11:10:29.921051Z"
        },
        "id": "thWqVEosb3yj",
        "outputId": "bdefee51-a498-4fe8-cfeb-355c0e38a232"
      },
      "outputs": [
        {
          "name": "stdout",
          "output_type": "stream",
          "text": [
            "Level of significance: 0.05\n",
            "We have no evidence to reject the null hypothesis since the p-value is greater than the level of significance\n"
          ]
        }
      ],
      "source": [
        "alpha_value = 0.05 # level of significance\n",
        "\n",
        "print('Level of significance: %.2f' %alpha_value)\n",
        "\n",
        "if p_value_ttest < alpha_value:\n",
        "    print('We have evidence to reject the null hypothesis since the p-value is less than the level of significance'.format(p_value_ttest))\n",
        "else:\n",
        "    print('We have no evidence to reject the null hypothesis since the p-value is greater than the level of significance'.format(p_value_ttest))"
      ]
    },
    {
      "cell_type": "markdown",
      "metadata": {
        "id": "0cx01v8Ib3yj"
      },
      "source": [
        "**Observation**\n",
        "- So at a 5% significance level, we do not have enough statistical evidence to prove that the mean time spent on the Internet is not equal to 144 minutes."
      ]
    },
    {
      "cell_type": "code",
      "source": [
        "# chi squared test"
      ],
      "metadata": {
        "id": "936_wGcuBSm3"
      },
      "execution_count": null,
      "outputs": []
    }
  ],
  "metadata": {
    "colab": {
      "provenance": []
    },
    "kernelspec": {
      "display_name": "Python 3 (ipykernel)",
      "language": "python",
      "name": "python3"
    },
    "language_info": {
      "codemirror_mode": {
        "name": "ipython",
        "version": 3
      },
      "file_extension": ".py",
      "mimetype": "text/x-python",
      "name": "python",
      "nbconvert_exporter": "python",
      "pygments_lexer": "ipython3",
      "version": "3.9.7"
    },
    "toc": {
      "base_numbering": 1,
      "nav_menu": {},
      "number_sections": true,
      "sideBar": true,
      "skip_h1_title": false,
      "title_cell": "Table of Contents",
      "title_sidebar": "Contents",
      "toc_cell": false,
      "toc_position": {},
      "toc_section_display": true,
      "toc_window_display": false
    },
    "varInspector": {
      "cols": {
        "lenName": 16,
        "lenType": 16,
        "lenVar": 40
      },
      "kernels_config": {
        "python": {
          "delete_cmd_postfix": "",
          "delete_cmd_prefix": "del ",
          "library": "var_list.py",
          "varRefreshCmd": "print(var_dic_list())"
        },
        "r": {
          "delete_cmd_postfix": ") ",
          "delete_cmd_prefix": "rm(",
          "library": "var_list.r",
          "varRefreshCmd": "cat(var_dic_list()) "
        }
      },
      "types_to_exclude": [
        "module",
        "function",
        "builtin_function_or_method",
        "instance",
        "_Feature"
      ],
      "window_display": false
    }
  },
  "nbformat": 4,
  "nbformat_minor": 0
}